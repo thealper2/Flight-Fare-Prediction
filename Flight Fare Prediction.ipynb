{
 "cells": [
  {
   "cell_type": "code",
   "execution_count": 1,
   "id": "3a1d886a",
   "metadata": {},
   "outputs": [],
   "source": [
    "import pandas as pd\n",
    "import numpy as np\n",
    "import string\n",
    "import autokeras\n",
    "import tensorflow as tf\n",
    "from sklearn.model_selection import train_test_split\n",
    "from sklearn.preprocessing import LabelEncoder"
   ]
  },
  {
   "cell_type": "code",
   "execution_count": 2,
   "id": "fc543673",
   "metadata": {},
   "outputs": [],
   "source": [
    "df = pd.read_excel(\"Data_Train.xlsx\")"
   ]
  },
  {
   "cell_type": "code",
   "execution_count": 3,
   "id": "5db58a1e",
   "metadata": {},
   "outputs": [
    {
     "data": {
      "text/plain": [
       "(10683, 11)"
      ]
     },
     "execution_count": 3,
     "metadata": {},
     "output_type": "execute_result"
    }
   ],
   "source": [
    "df.shape"
   ]
  },
  {
   "cell_type": "code",
   "execution_count": 4,
   "id": "b3c82277",
   "metadata": {},
   "outputs": [],
   "source": [
    "df = df.dropna(how=\"any\")"
   ]
  },
  {
   "cell_type": "code",
   "execution_count": 5,
   "id": "ee9944bc",
   "metadata": {},
   "outputs": [],
   "source": [
    "df[\"Day\"] = df[\"Date_of_Journey\"].str.split(\"/\").str[0]\n",
    "df[\"Month\"] = df[\"Date_of_Journey\"].str.split(\"/\").str[1]\n",
    "df[\"Year\"] = df[\"Date_of_Journey\"].str.split(\"/\").str[2]"
   ]
  },
  {
   "cell_type": "code",
   "execution_count": 6,
   "id": "25b5380e",
   "metadata": {},
   "outputs": [],
   "source": [
    "df[\"Day\"] = df[\"Day\"].astype(\"int\")\n",
    "df[\"Month\"] = df[\"Month\"].astype(\"int\")\n",
    "df[\"Year\"] = df[\"Year\"].astype(\"int\")"
   ]
  },
  {
   "cell_type": "code",
   "execution_count": 7,
   "id": "d600388b",
   "metadata": {},
   "outputs": [],
   "source": [
    "df = df.drop([\"Date_of_Journey\"], axis=1)"
   ]
  },
  {
   "cell_type": "code",
   "execution_count": 38,
   "id": "83c9af9e",
   "metadata": {},
   "outputs": [],
   "source": [
    "df[\"Arrival_Time\"] = df[\"Arrival_Time\"].str.split(\" \").str[0]"
   ]
  },
  {
   "cell_type": "code",
   "execution_count": 41,
   "id": "25e753da",
   "metadata": {},
   "outputs": [],
   "source": [
    "df[\"Total_Stops\"] = df[\"Total_Stops\"].replace(\"non-stop\", \"0 stop\")\n",
    "df[\"Total_Stops\"] = df[\"Total_Stops\"].str.split(\" \").str[0]\n",
    "df[\"Total_Stops\"] = df[\"Total_Stops\"].astype(\"int\")"
   ]
  },
  {
   "cell_type": "code",
   "execution_count": 44,
   "id": "2459db1b",
   "metadata": {},
   "outputs": [],
   "source": [
    "df[\"Departure_Hour\"] = df[\"Dep_Time\"].str.split(\":\").str[0]\n",
    "df[\"Departure_Minute\"] = df[\"Dep_Time\"].str.split(\":\").str[1]"
   ]
  },
  {
   "cell_type": "code",
   "execution_count": 47,
   "id": "cbfa7118",
   "metadata": {},
   "outputs": [],
   "source": [
    "df = df.drop([\"Dep_Time\"], axis=1)"
   ]
  },
  {
   "cell_type": "code",
   "execution_count": 49,
   "id": "cc1f783f",
   "metadata": {},
   "outputs": [],
   "source": [
    "df[\"Arrival_Hour\"] = df[\"Arrival_Time\"].str.split(\":\").str[0]\n",
    "df[\"Arrival_Minute\"] = df[\"Arrival_Time\"].str.split(\":\").str[1]"
   ]
  },
  {
   "cell_type": "code",
   "execution_count": 50,
   "id": "5b07ed05",
   "metadata": {},
   "outputs": [],
   "source": [
    "df = df.drop([\"Arrival_Time\"], axis=1)"
   ]
  },
  {
   "cell_type": "code",
   "execution_count": 54,
   "id": "5d0a43d6",
   "metadata": {},
   "outputs": [],
   "source": [
    "df[\"R1\"] = df[\"Route\"].str.split(\"→ \").str[0]\n",
    "df[\"R2\"] = df[\"Route\"].str.split(\"→ \").str[1]\n",
    "df[\"R3\"] = df[\"Route\"].str.split(\"→ \").str[2]\n",
    "df[\"R4\"] = df[\"Route\"].str.split(\"→ \").str[3]"
   ]
  },
  {
   "cell_type": "code",
   "execution_count": 59,
   "id": "82ff407a",
   "metadata": {},
   "outputs": [],
   "source": [
    "df = df.drop([\"Route\"], axis=1)"
   ]
  },
  {
   "cell_type": "code",
   "execution_count": 56,
   "id": "dcf2abbc",
   "metadata": {},
   "outputs": [],
   "source": [
    "df[\"R1\"] = df[\"R1\"].fillna(\"None\")\n",
    "df[\"R2\"] = df[\"R2\"].fillna(\"None\")\n",
    "df[\"R3\"] = df[\"R3\"].fillna(\"None\")\n",
    "df[\"R4\"] = df[\"R4\"].fillna(\"None\")"
   ]
  },
  {
   "cell_type": "code",
   "execution_count": 62,
   "id": "b74aa04c",
   "metadata": {},
   "outputs": [],
   "source": [
    "df = df.drop([\"Duration\"], axis=1)"
   ]
  },
  {
   "cell_type": "code",
   "execution_count": 65,
   "id": "367ded56",
   "metadata": {},
   "outputs": [],
   "source": [
    "cols = [\"Airline\", \"Source\", \"Destination\", \"Additional_Info\", \"R1\", \"R2\", \"R3\", \"R4\"]"
   ]
  },
  {
   "cell_type": "code",
   "execution_count": 66,
   "id": "d9ab079e",
   "metadata": {},
   "outputs": [],
   "source": [
    "def label_encoder(column):\n",
    "    le = LabelEncoder().fit(column)\n",
    "    print(column.name, le.classes_)\n",
    "    return le.transform(column)"
   ]
  },
  {
   "cell_type": "code",
   "execution_count": 68,
   "id": "f8eba109",
   "metadata": {},
   "outputs": [
    {
     "name": "stdout",
     "output_type": "stream",
     "text": [
      "Airline ['Air Asia' 'Air India' 'GoAir' 'IndiGo' 'Jet Airways'\n",
      " 'Jet Airways Business' 'Multiple carriers'\n",
      " 'Multiple carriers Premium economy' 'SpiceJet' 'Trujet' 'Vistara'\n",
      " 'Vistara Premium economy']\n",
      "Source ['Banglore' 'Chennai' 'Delhi' 'Kolkata' 'Mumbai']\n",
      "Destination ['Banglore' 'Cochin' 'Delhi' 'Hyderabad' 'Kolkata' 'New Delhi']\n",
      "Additional_Info ['1 Long layover' '1 Short layover' '2 Long layover' 'Business class'\n",
      " 'Change airports' 'In-flight meal not included' 'No Info'\n",
      " 'No check-in baggage included' 'No info' 'Red-eye flight']\n",
      "R1 ['BLR ' 'BOM ' 'CCU ' 'DEL ' 'MAA ']\n",
      "R2 ['AMD ' 'ATQ ' 'BBI ' 'BDQ ' 'BHO ' 'BLR' 'BLR ' 'BOM ' 'CCU' 'CCU ' 'COK'\n",
      " 'COK ' 'DED ' 'DEL' 'DEL ' 'GAU ' 'GOI ' 'GWL ' 'HBX ' 'HYD' 'HYD '\n",
      " 'IDR ' 'IXA ' 'IXB ' 'IXC ' 'IXR ' 'IXU ' 'IXZ ' 'JAI ' 'JDH ' 'JLR '\n",
      " 'KNU ' 'LKO ' 'MAA ' 'NAG ' 'NDC ' 'PAT ' 'PNQ ' 'RPR ' 'STV ' 'TRV '\n",
      " 'UDR ' 'VGA ' 'VNS ' 'VTZ ']\n",
      "R3 ['AMD ' 'BBI ' 'BHO ' 'BLR' 'BOM ' 'CCU ' 'COK' 'COK ' 'DEL' 'DEL ' 'GAU '\n",
      " 'GOI ' 'HBX ' 'HYD' 'HYD ' 'IDR ' 'IMF ' 'ISK ' 'IXC ' 'IXR ' 'JAI '\n",
      " 'JDH ' 'MAA ' 'NAG ' 'None' 'PNQ ' 'TRV ' 'UDR ' 'VGA ' 'VTZ ']\n",
      "R4 ['AMD ' 'BBI ' 'BHO ' 'BLR' 'BOM ' 'COK' 'DEL' 'DEL ' 'GWL ' 'HYD' 'HYD '\n",
      " 'NAG ' 'None' 'TRV ']\n"
     ]
    }
   ],
   "source": [
    "for col in cols:\n",
    "    df[col] = label_encoder(df[col])"
   ]
  },
  {
   "cell_type": "code",
   "execution_count": 70,
   "id": "d4de8ba7",
   "metadata": {},
   "outputs": [],
   "source": [
    "X = df.drop([\"Price\"], axis=1)\n",
    "y = df[\"Price\"]"
   ]
  },
  {
   "cell_type": "code",
   "execution_count": 71,
   "id": "129d6d99",
   "metadata": {},
   "outputs": [],
   "source": [
    "X_train, X_test, y_train, y_test = train_test_split(X, y, test_size=0.2, random_state=4242)"
   ]
  },
  {
   "cell_type": "code",
   "execution_count": 74,
   "id": "3f813a7a",
   "metadata": {},
   "outputs": [],
   "source": [
    "sdr = autokeras.StructuredDataRegressor(overwrite=True, max_trials=3)"
   ]
  },
  {
   "cell_type": "code",
   "execution_count": 75,
   "id": "58efaca8",
   "metadata": {},
   "outputs": [
    {
     "name": "stdout",
     "output_type": "stream",
     "text": [
      "INFO:tensorflow:Oracle triggered exit\n"
     ]
    },
    {
     "name": "stderr",
     "output_type": "stream",
     "text": [
      "WARNING:absl:Found untraced functions such as _update_step_xla while saving (showing 1 of 1). These functions will not be directly callable after loading.\n"
     ]
    },
    {
     "name": "stdout",
     "output_type": "stream",
     "text": [
      "INFO:tensorflow:Assets written to: ./structured_data_regressor/best_model/assets\n"
     ]
    },
    {
     "name": "stderr",
     "output_type": "stream",
     "text": [
      "INFO:tensorflow:Assets written to: ./structured_data_regressor/best_model/assets\n"
     ]
    },
    {
     "data": {
      "text/plain": [
       "<keras.callbacks.History at 0x29959d910>"
      ]
     },
     "execution_count": 75,
     "metadata": {},
     "output_type": "execute_result"
    }
   ],
   "source": [
    "sdr.fit(x=X_train, y=y_train, verbose=0)"
   ]
  },
  {
   "cell_type": "code",
   "execution_count": 76,
   "id": "cc35f489",
   "metadata": {},
   "outputs": [
    {
     "name": "stdout",
     "output_type": "stream",
     "text": [
      "67/67 - 0s - loss: 4416805.0000 - mean_squared_error: 4416805.0000 - 97ms/epoch - 1ms/step\n"
     ]
    }
   ],
   "source": [
    "mae, mse = sdr.evaluate(X_test, y_test, verbose=2)"
   ]
  },
  {
   "cell_type": "code",
   "execution_count": 77,
   "id": "fa79a193",
   "metadata": {},
   "outputs": [
    {
     "name": "stdout",
     "output_type": "stream",
     "text": [
      "67/67 [==============================] - 0s 467us/step\n",
      "67/67 [==============================] - 0s 419us/step\n"
     ]
    }
   ],
   "source": [
    "y_pred = sdr.predict(X_test)"
   ]
  },
  {
   "cell_type": "code",
   "execution_count": 78,
   "id": "a290011a",
   "metadata": {},
   "outputs": [],
   "source": [
    "model = sdr.export_model()"
   ]
  },
  {
   "cell_type": "code",
   "execution_count": 79,
   "id": "36744280",
   "metadata": {},
   "outputs": [
    {
     "name": "stdout",
     "output_type": "stream",
     "text": [
      "Model: \"model\"\n",
      "_________________________________________________________________\n",
      " Layer (type)                Output Shape              Param #   \n",
      "=================================================================\n",
      " input_1 (InputLayer)        [(None, 16)]              0         \n",
      "                                                                 \n",
      " multi_category_encoding (Mu  (None, 16)               0         \n",
      " ltiCategoryEncoding)                                            \n",
      "                                                                 \n",
      " normalization (Normalizatio  (None, 16)               33        \n",
      " n)                                                              \n",
      "                                                                 \n",
      " dense (Dense)               (None, 128)               2176      \n",
      "                                                                 \n",
      " re_lu (ReLU)                (None, 128)               0         \n",
      "                                                                 \n",
      " dense_1 (Dense)             (None, 32)                4128      \n",
      "                                                                 \n",
      " re_lu_1 (ReLU)              (None, 32)                0         \n",
      "                                                                 \n",
      " regression_head_1 (Dense)   (None, 1)                 33        \n",
      "                                                                 \n",
      "=================================================================\n",
      "Total params: 6,370\n",
      "Trainable params: 6,337\n",
      "Non-trainable params: 33\n",
      "_________________________________________________________________\n"
     ]
    }
   ],
   "source": [
    "model.summary()"
   ]
  },
  {
   "cell_type": "code",
   "execution_count": null,
   "id": "e42b5494",
   "metadata": {},
   "outputs": [],
   "source": []
  }
 ],
 "metadata": {
  "kernelspec": {
   "display_name": "Python 3 (ipykernel)",
   "language": "python",
   "name": "python3"
  },
  "language_info": {
   "codemirror_mode": {
    "name": "ipython",
    "version": 3
   },
   "file_extension": ".py",
   "mimetype": "text/x-python",
   "name": "python",
   "nbconvert_exporter": "python",
   "pygments_lexer": "ipython3",
   "version": "3.8.16"
  }
 },
 "nbformat": 4,
 "nbformat_minor": 5
}
